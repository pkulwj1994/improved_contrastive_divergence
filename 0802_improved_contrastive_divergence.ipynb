{
  "cells": [
    {
      "cell_type": "code",
      "execution_count": null,
      "metadata": {
        "colab": {
          "base_uri": "https://localhost:8080/"
        },
        "id": "KnRQXe4XpbyV",
        "outputId": "85b59c89-5af4-4a70-8631-5cd57cffdca2"
      },
      "outputs": [
        {
          "name": "stdout",
          "output_type": "stream",
          "text": [
            "Cloning into 'improved_contrastive_divergence'...\n",
            "remote: Enumerating objects: 63, done.\u001b[K\n",
            "remote: Counting objects: 100% (63/63), done.\u001b[K\n",
            "remote: Compressing objects: 100% (48/48), done.\u001b[K\n",
            "remote: Total 63 (delta 31), reused 36 (delta 15), pack-reused 0\u001b[K\n",
            "Unpacking objects: 100% (63/63), done.\n"
          ]
        }
      ],
      "source": [
        "!git clone https://github.com/pkulwj1994/improved_contrastive_divergence.git"
      ]
    },
    {
      "cell_type": "code",
      "execution_count": null,
      "metadata": {
        "id": "wvGidOOtpgmg"
      },
      "outputs": [],
      "source": [
        "!cp -a /content/improved_contrastive_divergence/. /content/."
      ]
    },
    {
      "cell_type": "code",
      "execution_count": 8,
      "metadata": {
        "colab": {
          "base_uri": "https://localhost:8080/",
          "height": 1000
        },
        "id": "iAzeksvspgoo",
        "outputId": "214239cd-a7ce-4e10-8aa6-c2421c6d3504"
      },
      "outputs": [
        {
          "output_type": "stream",
          "name": "stdout",
          "text": [
            "Looking in indexes: https://pypi.org/simple, https://us-python.pkg.dev/colab-wheels/public/simple/\n",
            "Requirement already satisfied: scipy==1.1.0 in /usr/local/lib/python3.7/dist-packages (1.1.0)\n",
            "Requirement already satisfied: numpy==1.18.4 in /usr/local/lib/python3.7/dist-packages (1.18.4)\n",
            "Requirement already satisfied: opencv_python==4.2.0.34 in /usr/local/lib/python3.7/dist-packages (4.2.0.34)\n",
            "Collecting lmdb==0.98\n",
            "  Using cached lmdb-0.98-cp37-cp37m-linux_x86_64.whl\n",
            "Collecting seaborn==0.9.0\n",
            "  Using cached seaborn-0.9.0-py3-none-any.whl (208 kB)\n",
            "Requirement already satisfied: six==1.15.0 in /usr/local/lib/python3.7/dist-packages (1.15.0)\n",
            "Collecting tensorflow==1.15.2\n",
            "  Using cached tensorflow-1.15.2-cp37-cp37m-manylinux2010_x86_64.whl (110.5 MB)\n",
            "Collecting torch==1.7.0\n",
            "  Using cached torch-1.7.0-cp37-cp37m-manylinux1_x86_64.whl (776.7 MB)\n",
            "Collecting scikit_image==0.16.2\n",
            "  Using cached scikit_image-0.16.2-cp37-cp37m-manylinux1_x86_64.whl (26.5 MB)\n",
            "Requirement already satisfied: easydict==1.9 in /usr/local/lib/python3.7/dist-packages (1.9)\n",
            "Requirement already satisfied: absl_py==0.8.0 in /usr/local/lib/python3.7/dist-packages (0.8.0)\n",
            "Collecting gdown==3.12.2\n",
            "  Using cached gdown-3.12.2-py3-none-any.whl\n",
            "Collecting tqdm==4.46.1\n",
            "  Using cached tqdm-4.46.1-py2.py3-none-any.whl (63 kB)\n",
            "Requirement already satisfied: imageio==2.9.0 in /usr/local/lib/python3.7/dist-packages (2.9.0)\n",
            "Collecting matplotlib==3.1.1\n",
            "  Using cached matplotlib-3.1.1-cp37-cp37m-manylinux1_x86_64.whl (13.1 MB)\n",
            "Collecting pandas==0.25.2\n",
            "  Using cached pandas-0.25.2-cp37-cp37m-manylinux1_x86_64.whl (10.4 MB)\n",
            "Collecting ipython==7.19.0\n",
            "  Using cached ipython-7.19.0-py3-none-any.whl (784 kB)\n",
            "Requirement already satisfied: Pillow==8.0.1 in /usr/local/lib/python3.7/dist-packages (8.0.1)\n",
            "Collecting scikit_learn==0.23.2\n",
            "  Using cached scikit_learn-0.23.2-cp37-cp37m-manylinux1_x86_64.whl (6.8 MB)\n",
            "Collecting torchvision==0.8.1\n",
            "  Using cached torchvision-0.8.1-cp37-cp37m-manylinux1_x86_64.whl (12.7 MB)\n",
            "Requirement already satisfied: astor>=0.6.0 in /usr/local/lib/python3.7/dist-packages (from tensorflow==1.15.2) (0.8.1)\n",
            "Requirement already satisfied: keras-preprocessing>=1.0.5 in /usr/local/lib/python3.7/dist-packages (from tensorflow==1.15.2) (1.1.2)\n",
            "Requirement already satisfied: wrapt>=1.11.1 in /usr/local/lib/python3.7/dist-packages (from tensorflow==1.15.2) (1.14.1)\n",
            "Requirement already satisfied: protobuf>=3.6.1 in /usr/local/lib/python3.7/dist-packages (from tensorflow==1.15.2) (3.17.3)\n",
            "Requirement already satisfied: grpcio>=1.8.6 in /usr/local/lib/python3.7/dist-packages (from tensorflow==1.15.2) (1.47.0)\n",
            "Requirement already satisfied: tensorboard<1.16.0,>=1.15.0 in /usr/local/lib/python3.7/dist-packages (from tensorflow==1.15.2) (1.15.0)\n",
            "Requirement already satisfied: opt-einsum>=2.3.2 in /usr/local/lib/python3.7/dist-packages (from tensorflow==1.15.2) (3.3.0)\n",
            "Collecting keras-applications>=1.0.8\n",
            "  Using cached Keras_Applications-1.0.8-py3-none-any.whl (50 kB)\n",
            "Requirement already satisfied: tensorflow-estimator==1.15.1 in /usr/local/lib/python3.7/dist-packages (from tensorflow==1.15.2) (1.15.1)\n",
            "Collecting gast==0.2.2\n",
            "  Using cached gast-0.2.2-py3-none-any.whl\n",
            "Requirement already satisfied: wheel>=0.26 in /usr/local/lib/python3.7/dist-packages (from tensorflow==1.15.2) (0.37.1)\n",
            "Requirement already satisfied: termcolor>=1.1.0 in /usr/local/lib/python3.7/dist-packages (from tensorflow==1.15.2) (1.1.0)\n",
            "Requirement already satisfied: google-pasta>=0.1.6 in /usr/local/lib/python3.7/dist-packages (from tensorflow==1.15.2) (0.2.0)\n",
            "Requirement already satisfied: typing-extensions in /usr/local/lib/python3.7/dist-packages (from torch==1.7.0) (4.1.1)\n",
            "Requirement already satisfied: future in /usr/local/lib/python3.7/dist-packages (from torch==1.7.0) (0.16.0)\n",
            "Collecting dataclasses\n",
            "  Using cached dataclasses-0.6-py3-none-any.whl (14 kB)\n",
            "Requirement already satisfied: networkx>=2.0 in /usr/local/lib/python3.7/dist-packages (from scikit_image==0.16.2) (2.6.3)\n",
            "Requirement already satisfied: PyWavelets>=0.4.0 in /usr/local/lib/python3.7/dist-packages (from scikit_image==0.16.2) (1.3.0)\n",
            "Requirement already satisfied: filelock in /usr/local/lib/python3.7/dist-packages (from gdown==3.12.2) (3.7.1)\n",
            "Requirement already satisfied: requests[socks] in /usr/local/lib/python3.7/dist-packages (from gdown==3.12.2) (2.23.0)\n",
            "Requirement already satisfied: cycler>=0.10 in /usr/local/lib/python3.7/dist-packages (from matplotlib==3.1.1) (0.11.0)\n",
            "Requirement already satisfied: kiwisolver>=1.0.1 in /usr/local/lib/python3.7/dist-packages (from matplotlib==3.1.1) (1.4.4)\n",
            "Requirement already satisfied: pyparsing!=2.0.4,!=2.1.2,!=2.1.6,>=2.0.1 in /usr/local/lib/python3.7/dist-packages (from matplotlib==3.1.1) (3.0.9)\n",
            "Requirement already satisfied: python-dateutil>=2.1 in /usr/local/lib/python3.7/dist-packages (from matplotlib==3.1.1) (2.8.2)\n",
            "Requirement already satisfied: pytz>=2017.2 in /usr/local/lib/python3.7/dist-packages (from pandas==0.25.2) (2022.1)\n",
            "Requirement already satisfied: traitlets>=4.2 in /usr/local/lib/python3.7/dist-packages (from ipython==7.19.0) (5.1.1)\n",
            "Requirement already satisfied: decorator in /usr/local/lib/python3.7/dist-packages (from ipython==7.19.0) (4.4.2)\n",
            "Requirement already satisfied: jedi>=0.10 in /usr/local/lib/python3.7/dist-packages (from ipython==7.19.0) (0.18.1)\n",
            "Requirement already satisfied: pexpect>4.3 in /usr/local/lib/python3.7/dist-packages (from ipython==7.19.0) (4.8.0)\n",
            "Requirement already satisfied: pygments in /usr/local/lib/python3.7/dist-packages (from ipython==7.19.0) (2.6.1)\n",
            "Collecting prompt-toolkit!=3.0.0,!=3.0.1,<3.1.0,>=2.0.0\n",
            "  Using cached prompt_toolkit-3.0.30-py3-none-any.whl (381 kB)\n",
            "Requirement already satisfied: backcall in /usr/local/lib/python3.7/dist-packages (from ipython==7.19.0) (0.2.0)\n",
            "Requirement already satisfied: setuptools>=18.5 in /usr/local/lib/python3.7/dist-packages (from ipython==7.19.0) (57.4.0)\n",
            "Requirement already satisfied: pickleshare in /usr/local/lib/python3.7/dist-packages (from ipython==7.19.0) (0.7.5)\n",
            "Requirement already satisfied: joblib>=0.11 in /usr/local/lib/python3.7/dist-packages (from scikit_learn==0.23.2) (1.1.0)\n",
            "Requirement already satisfied: threadpoolctl>=2.0.0 in /usr/local/lib/python3.7/dist-packages (from scikit_learn==0.23.2) (3.1.0)\n",
            "Requirement already satisfied: parso<0.9.0,>=0.8.0 in /usr/local/lib/python3.7/dist-packages (from jedi>=0.10->ipython==7.19.0) (0.8.3)\n",
            "Requirement already satisfied: h5py in /usr/local/lib/python3.7/dist-packages (from keras-applications>=1.0.8->tensorflow==1.15.2) (3.1.0)\n",
            "Requirement already satisfied: ptyprocess>=0.5 in /usr/local/lib/python3.7/dist-packages (from pexpect>4.3->ipython==7.19.0) (0.7.0)\n",
            "Requirement already satisfied: wcwidth in /usr/local/lib/python3.7/dist-packages (from prompt-toolkit!=3.0.0,!=3.0.1,<3.1.0,>=2.0.0->ipython==7.19.0) (0.2.5)\n",
            "Requirement already satisfied: werkzeug>=0.11.15 in /usr/local/lib/python3.7/dist-packages (from tensorboard<1.16.0,>=1.15.0->tensorflow==1.15.2) (1.0.1)\n",
            "Requirement already satisfied: markdown>=2.6.8 in /usr/local/lib/python3.7/dist-packages (from tensorboard<1.16.0,>=1.15.0->tensorflow==1.15.2) (3.4.1)\n",
            "Requirement already satisfied: importlib-metadata>=4.4 in /usr/local/lib/python3.7/dist-packages (from markdown>=2.6.8->tensorboard<1.16.0,>=1.15.0->tensorflow==1.15.2) (4.12.0)\n",
            "Requirement already satisfied: zipp>=0.5 in /usr/local/lib/python3.7/dist-packages (from importlib-metadata>=4.4->markdown>=2.6.8->tensorboard<1.16.0,>=1.15.0->tensorflow==1.15.2) (3.8.1)\n",
            "Requirement already satisfied: cached-property in /usr/local/lib/python3.7/dist-packages (from h5py->keras-applications>=1.0.8->tensorflow==1.15.2) (1.5.2)\n",
            "Requirement already satisfied: idna<3,>=2.5 in /usr/local/lib/python3.7/dist-packages (from requests[socks]->gdown==3.12.2) (2.10)\n",
            "Requirement already satisfied: urllib3!=1.25.0,!=1.25.1,<1.26,>=1.21.1 in /usr/local/lib/python3.7/dist-packages (from requests[socks]->gdown==3.12.2) (1.24.3)\n",
            "Requirement already satisfied: certifi>=2017.4.17 in /usr/local/lib/python3.7/dist-packages (from requests[socks]->gdown==3.12.2) (2022.6.15)\n",
            "Requirement already satisfied: chardet<4,>=3.0.2 in /usr/local/lib/python3.7/dist-packages (from requests[socks]->gdown==3.12.2) (3.0.4)\n",
            "Requirement already satisfied: PySocks!=1.5.7,>=1.5.6 in /usr/local/lib/python3.7/dist-packages (from requests[socks]->gdown==3.12.2) (1.7.1)\n",
            "Installing collected packages: dataclasses, tqdm, torch, prompt-toolkit, pandas, matplotlib, keras-applications, gast, torchvision, tensorflow, seaborn, scikit-learn, scikit-image, lmdb, ipython, gdown\n",
            "  Attempting uninstall: tqdm\n",
            "    Found existing installation: tqdm 4.64.0\n",
            "    Uninstalling tqdm-4.64.0:\n",
            "      Successfully uninstalled tqdm-4.64.0\n",
            "  Attempting uninstall: torch\n",
            "    Found existing installation: torch 1.12.0+cu113\n",
            "    Uninstalling torch-1.12.0+cu113:\n",
            "      Successfully uninstalled torch-1.12.0+cu113\n",
            "  Attempting uninstall: prompt-toolkit\n",
            "    Found existing installation: prompt-toolkit 1.0.18\n",
            "    Uninstalling prompt-toolkit-1.0.18:\n",
            "      Successfully uninstalled prompt-toolkit-1.0.18\n",
            "  Attempting uninstall: pandas\n",
            "    Found existing installation: pandas 1.3.5\n",
            "    Uninstalling pandas-1.3.5:\n",
            "      Successfully uninstalled pandas-1.3.5\n",
            "  Attempting uninstall: matplotlib\n",
            "    Found existing installation: matplotlib 3.2.2\n",
            "    Uninstalling matplotlib-3.2.2:\n",
            "      Successfully uninstalled matplotlib-3.2.2\n",
            "  Attempting uninstall: gast\n",
            "    Found existing installation: gast 0.5.3\n",
            "    Uninstalling gast-0.5.3:\n",
            "      Successfully uninstalled gast-0.5.3\n",
            "  Attempting uninstall: torchvision\n",
            "    Found existing installation: torchvision 0.13.0+cu113\n",
            "    Uninstalling torchvision-0.13.0+cu113:\n",
            "      Successfully uninstalled torchvision-0.13.0+cu113\n",
            "  Attempting uninstall: tensorflow\n",
            "    Found existing installation: tensorflow 2.8.2+zzzcolab20220719082949\n",
            "    Uninstalling tensorflow-2.8.2+zzzcolab20220719082949:\n",
            "      Successfully uninstalled tensorflow-2.8.2+zzzcolab20220719082949\n",
            "  Attempting uninstall: seaborn\n",
            "    Found existing installation: seaborn 0.11.2\n",
            "    Uninstalling seaborn-0.11.2:\n",
            "      Successfully uninstalled seaborn-0.11.2\n",
            "  Attempting uninstall: scikit-learn\n",
            "    Found existing installation: scikit-learn 1.0.2\n",
            "    Uninstalling scikit-learn-1.0.2:\n",
            "      Successfully uninstalled scikit-learn-1.0.2\n",
            "  Attempting uninstall: scikit-image\n",
            "    Found existing installation: scikit-image 0.18.3\n",
            "    Uninstalling scikit-image-0.18.3:\n",
            "      Successfully uninstalled scikit-image-0.18.3\n",
            "  Attempting uninstall: lmdb\n",
            "    Found existing installation: lmdb 0.99\n",
            "    Uninstalling lmdb-0.99:\n",
            "      Successfully uninstalled lmdb-0.99\n",
            "  Attempting uninstall: ipython\n",
            "    Found existing installation: ipython 5.5.0\n",
            "    Uninstalling ipython-5.5.0:\n",
            "      Successfully uninstalled ipython-5.5.0\n",
            "  Attempting uninstall: gdown\n",
            "    Found existing installation: gdown 4.4.0\n",
            "    Uninstalling gdown-4.4.0:\n",
            "      Successfully uninstalled gdown-4.4.0\n",
            "\u001b[31mERROR: pip's dependency resolver does not currently take into account all the packages that are installed. This behaviour is the source of the following dependency conflicts.\n",
            "yellowbrick 1.4 requires scikit-learn>=1.0.0, but you have scikit-learn 0.23.2 which is incompatible.\n",
            "xarray 0.20.2 requires pandas>=1.1, but you have pandas 0.25.2 which is incompatible.\n",
            "xarray-einstats 0.2.2 requires numpy>=1.21, but you have numpy 1.18.4 which is incompatible.\n",
            "torchtext 0.13.0 requires torch==1.12.0, but you have torch 1.7.0 which is incompatible.\n",
            "torchaudio 0.12.0+cu113 requires torch==1.12.0, but you have torch 1.7.0 which is incompatible.\n",
            "tensorflow-probability 0.16.0 requires gast>=0.3.2, but you have gast 0.2.2 which is incompatible.\n",
            "pymc3 3.11.5 requires scipy<1.8.0,>=1.7.3, but you have scipy 1.1.0 which is incompatible.\n",
            "prophet 1.1 requires pandas>=1.0.4, but you have pandas 0.25.2 which is incompatible.\n",
            "plotnine 0.6.0 requires scipy>=1.2.0, but you have scipy 1.1.0 which is incompatible.\n",
            "panel 0.12.1 requires tqdm>=4.48.0, but you have tqdm 4.46.1 which is incompatible.\n",
            "kapre 0.3.7 requires numpy>=1.18.5, but you have numpy 1.18.4 which is incompatible.\n",
            "kapre 0.3.7 requires tensorflow>=2.0.0, but you have tensorflow 1.15.2 which is incompatible.\n",
            "jupyter-console 5.2.0 requires prompt-toolkit<2.0.0,>=1.0.0, but you have prompt-toolkit 3.0.30 which is incompatible.\n",
            "imbalanced-learn 0.8.1 requires scikit-learn>=0.24, but you have scikit-learn 0.23.2 which is incompatible.\n",
            "google-colab 1.0.0 requires ipython~=5.5.0, but you have ipython 7.19.0 which is incompatible.\n",
            "google-colab 1.0.0 requires pandas>=1.1.0, but you have pandas 0.25.2 which is incompatible.\n",
            "fastai 2.7.7 requires torchvision>=0.8.2, but you have torchvision 0.8.1 which is incompatible.\n",
            "cmdstanpy 1.0.4 requires numpy>=1.21, but you have numpy 1.18.4 which is incompatible.\u001b[0m\n",
            "Successfully installed dataclasses-0.6 gast-0.2.2 gdown-3.12.2 ipython-7.19.0 keras-applications-1.0.8 lmdb-0.98 matplotlib-3.1.1 pandas-0.25.2 prompt-toolkit-3.0.30 scikit-image-0.16.2 scikit-learn-0.23.2 seaborn-0.9.0 tensorflow-1.15.2 torch-1.7.0 torchvision-0.8.1 tqdm-4.46.1\n"
          ]
        },
        {
          "output_type": "display_data",
          "data": {
            "application/vnd.colab-display-data+json": {
              "pip_warning": {
                "packages": [
                  "IPython",
                  "matplotlib",
                  "mpl_toolkits",
                  "prompt_toolkit"
                ]
              }
            }
          },
          "metadata": {}
        }
      ],
      "source": [
        "# !pip install -r requirements.txt\n",
        "!pip install scipy==1.1.0 \\\n",
        "        numpy==1.18.4 \\\n",
        "        opencv_python==4.2.0.34 \\\n",
        "        lmdb==0.98 \\\n",
        "        seaborn==0.9.0 \\\n",
        "        six==1.15.0 \\\n",
        "        tensorflow==1.15.2 \\\n",
        "        torch==1.7.0 \\\n",
        "        scikit_image==0.16.2 \\\n",
        "        easydict==1.9 \\\n",
        "        absl_py==0.8.0 \\\n",
        "        gdown==3.12.2 \\\n",
        "        tqdm==4.46.1 \\\n",
        "        imageio==2.9.0 \\\n",
        "        matplotlib==3.1.1 \\\n",
        "        pandas==0.25.2 \\\n",
        "        ipython==7.19.0 \\\n",
        "        Pillow==8.0.1 \\\n",
        "        scikit_learn==0.23.2 \\\n",
        "        scikit-image \\\n",
        "        torchvision==0.8.1"
      ]
    },
    {
      "cell_type": "code",
      "execution_count": null,
      "metadata": {
        "colab": {
          "base_uri": "https://localhost:8080/"
        },
        "id": "k90Vp4ZtmRER",
        "outputId": "fc0ca937-8334-403c-d1fa-19cdf95cd452"
      },
      "outputs": [
        {
          "output_type": "stream",
          "name": "stdout",
          "text": [
            "start data import\n",
            "end data import\n",
            "Logging to /tmp/openai-2022-08-02-15-09-23-817901\n",
            "Values of args:  {'alias': False, 'all_step': False, 'alsologtostderr': False, 'anneal': False, 'batch_size': 128, 'buffer_size': 10000, 'cond': False, 'cond_idx': 0, 'cuda': True, 'data_workers': 4, 'dataset': 'mnist', 'ensembles': 1, 'epoch_num': 10000, 'exp': 'mnist_model', 'filter_dim': 64, 'gpus': 1, 'hmc': False, 'im_size': 32, 'kl': True, 'kl_coeff': 1.0, 'log_dir': '', 'log_grad': False, 'log_interval': 10, 'logdir': 'cachedir', 'logtostderr': False, 'lr': 0.0002, 'master_addr': '8.8.8.8', 'multiscale': True, 'node_rank': 0, 'nodes': 1, 'noise_scale': 1.0, 'norm': True, 'num_steps': 40, 'objective': 'cd', 'only_check_args': False, 'op_conversion_fallback_to_while_loop': False, 'pdb_post_mortem': False, 'port': '10002', 'profile_file': None, 'repel_im': True, 'replay_batch': True, 'reservoir': True, 'resume_iter': 0, 'run_with_pdb': False, 'run_with_profiling': False, 'save_interval': 1000, 'self_attn': True, 'showprefixforinfo': True, 'sigmoid': False, 'slurm': False, 'spec_norm': False, 'square_energy': False, 'stderrthreshold': 'fatal', 'step_lr': 100.0, 'test_interval': 1000, 'test_random_seed': 301, 'test_randomize_ordering_seed': None, 'test_srcdir': '', 'test_tmpdir': '/tmp/absl_testing', 'train': True, 'transform': True, 'use_cprofile_for_profiling': True, 'v': -1, 'verbosity': -1, 'xml_output_file': ''}\n",
            "Downloading http://yann.lecun.com/exdb/mnist/train-images-idx3-ubyte.gz to data/mnist/MNIST/raw/train-images-idx3-ubyte.gz\n",
            "9920512it [00:00, 16243697.04it/s]                 \n",
            "Extracting data/mnist/MNIST/raw/train-images-idx3-ubyte.gz to data/mnist/MNIST/raw\n",
            "Downloading http://yann.lecun.com/exdb/mnist/train-labels-idx1-ubyte.gz to data/mnist/MNIST/raw/train-labels-idx1-ubyte.gz\n",
            "32768it [00:00, 367213.82it/s]\n",
            "Extracting data/mnist/MNIST/raw/train-labels-idx1-ubyte.gz to data/mnist/MNIST/raw\n",
            "Downloading http://yann.lecun.com/exdb/mnist/t10k-images-idx3-ubyte.gz to data/mnist/MNIST/raw/t10k-images-idx3-ubyte.gz\n",
            "1654784it [00:00, 5533326.44it/s]               \n",
            "Extracting data/mnist/MNIST/raw/t10k-images-idx3-ubyte.gz to data/mnist/MNIST/raw\n",
            "Downloading http://yann.lecun.com/exdb/mnist/t10k-labels-idx1-ubyte.gz to data/mnist/MNIST/raw/t10k-labels-idx1-ubyte.gz\n",
            "8192it [00:00, 61422.71it/s]\n",
            "Extracting data/mnist/MNIST/raw/t10k-labels-idx1-ubyte.gz to data/mnist/MNIST/raw\n",
            "Processing...\n",
            "/usr/local/lib/python3.7/dist-packages/torchvision/datasets/mnist.py:480: UserWarning: The given NumPy array is not writeable, and PyTorch does not support non-writeable tensors. This means you can write to the underlying (supposedly non-writeable) NumPy array using the tensor. You may want to copy the array to protect its data or make it writeable before converting it to a tensor. This type of warning will be suppressed for the rest of this program. (Triggered internally at  /pytorch/torch/csrc/utils/tensor_numpy.cpp:141.)\n",
            "  return torch.from_numpy(parsed.astype(m[2], copy=False)).view(*s)\n",
            "Done!\n",
            "New Values of args:  {'alias': False, 'all_step': False, 'alsologtostderr': False, 'anneal': False, 'batch_size': 128, 'buffer_size': 10000, 'cond': False, 'cond_idx': 0, 'cuda': True, 'data_workers': 4, 'dataset': 'mnist', 'ensembles': 1, 'epoch_num': 10000, 'exp': 'mnist_model', 'filter_dim': 64, 'gpus': 1, 'hmc': False, 'im_size': 32, 'kl': True, 'kl_coeff': 1.0, 'log_dir': '', 'log_grad': False, 'log_interval': 10, 'logdir': 'cachedir', 'logtostderr': False, 'lr': 0.0002, 'master_addr': '8.8.8.8', 'multiscale': True, 'node_rank': 0, 'nodes': 1, 'noise_scale': 1.0, 'norm': True, 'num_steps': 40, 'objective': 'cd', 'only_check_args': False, 'op_conversion_fallback_to_while_loop': False, 'pdb_post_mortem': False, 'port': '10002', 'profile_file': None, 'repel_im': True, 'replay_batch': True, 'reservoir': True, 'resume_iter': 0, 'run_with_pdb': False, 'run_with_profiling': False, 'save_interval': 1000, 'self_attn': True, 'showprefixforinfo': True, 'sigmoid': False, 'slurm': False, 'spec_norm': False, 'square_energy': False, 'stderrthreshold': 'fatal', 'step_lr': 100.0, 'test_interval': 1000, 'test_random_seed': 301, 'test_randomize_ordering_seed': None, 'test_srcdir': '', 'test_tmpdir': '/tmp/absl_testing', 'train': True, 'transform': True, 'use_cprofile_for_profiling': True, 'v': -1, 'verbosity': -1, 'xml_output_file': ''}\n",
            "Number of parameters for models 4089217\n",
            "WARNING:tensorflow:From /content/inception.py:25: The name tf.ConfigProto is deprecated. Please use tf.compat.v1.ConfigProto instead.\n",
            "\n",
            "WARNING:tensorflow:From /content/inception.py:29: The name tf.Session is deprecated. Please use tf.compat.v1.Session instead.\n",
            "\n",
            "2022-08-02 15:09:28.272441: I tensorflow/core/platform/cpu_feature_guard.cc:142] Your CPU supports instructions that this TensorFlow binary was not compiled to use: AVX2 FMA\n",
            "2022-08-02 15:09:28.276968: I tensorflow/core/platform/profile_utils/cpu_utils.cc:94] CPU Frequency: 2199995000 Hz\n",
            "2022-08-02 15:09:28.277215: I tensorflow/compiler/xla/service/service.cc:168] XLA service 0x67caaf40 initialized for platform Host (this does not guarantee that XLA will be used). Devices:\n",
            "2022-08-02 15:09:28.277247: I tensorflow/compiler/xla/service/service.cc:176]   StreamExecutor device (0): Host, Default Version\n",
            ">> Downloading inception-2015-12-05.tgz 100.0%\n",
            "Succesfully downloaded inception-2015-12-05.tgz 88931400 bytes.\n",
            "WARNING:tensorflow:From /content/inception.py:85: FastGFile.__init__ (from tensorflow.python.platform.gfile) is deprecated and will be removed in a future version.\n",
            "Instructions for updating:\n",
            "Use tf.gfile.GFile.\n",
            "WARNING:tensorflow:From /content/inception.py:86: The name tf.GraphDef is deprecated. Please use tf.compat.v1.GraphDef instead.\n",
            "\n",
            "2022-08-02 15:09:31.981633: W tensorflow/core/framework/op_def_util.cc:357] Op BatchNormWithGlobalNormalization is deprecated. It will cease to work in GraphDef version 9. Use tf.nn.batch_normalization().\n",
            "train.py:510: UserWarning: torch.nn.utils.clip_grad_norm is now deprecated in favor of torch.nn.utils.clip_grad_norm_.\n",
            "  [clip_grad_norm(model.parameters(), 0.5) for model in models]\n",
            "Obtained a total of e_pos: 0.013913154602050781, e_pos_std: 0.0027626988012343645, e_neg: -0.0722963809967041, kl_mean: -0.0722963809967041, loss_repel: 0.0, e_neg_std: 0.0050275144167244434, e_diff: 0.08620953559875488, x_grad: 0.0007293891976587474, iter: 0, hmc_loss: 0.0, num_steps: 40, t_diff: 1.0476014614105225, length: 32, \n",
            "WARNING:tensorflow:From /content/logger.py:161: The name tf.Summary is deprecated. Please use tf.compat.v1.Summary instead.\n",
            "\n",
            "Inception score of 0 with std of 0\n",
            "Obtained a total of e_pos: -0.05873723328113556, e_pos_std: 0.004151997622102499, e_neg: -0.05546898394823074, kl_mean: -0.055008791387081146, loss_repel: 2.568948268890381, e_neg_std: 0.0035984800197184086, e_diff: -0.0032682493329048157, x_grad: 8.292948768939823e-05, iter: 10, hmc_loss: 0.0, num_steps: 40, t_diff: 19.879950761795044, length: 1312, \n",
            "Obtained a total of e_pos: -0.040458355098962784, e_pos_std: 0.005848659202456474, e_neg: -0.04166587069630623, kl_mean: -0.04087783023715019, loss_repel: 2.4013333320617676, e_neg_std: 0.004416149575263262, e_diff: 0.0012075155973434448, x_grad: 0.00015454865933861583, iter: 20, hmc_loss: 0.0, num_steps: 40, t_diff: 19.141302824020386, length: 2592, \n",
            "Obtained a total of e_pos: -0.025790877640247345, e_pos_std: 0.005490278825163841, e_neg: -0.025205835700035095, kl_mean: -0.025186974555253983, loss_repel: 2.2494266033172607, e_neg_std: 0.008110075257718563, e_diff: -0.0005850419402122498, x_grad: 0.00018186068336945027, iter: 30, hmc_loss: 0.0, num_steps: 40, t_diff: 19.1252338886261, length: 3872, \n",
            "Obtained a total of e_pos: -0.07255657017230988, e_pos_std: 0.002704138169065118, e_neg: -0.07330115139484406, kl_mean: -0.07319775223731995, loss_repel: 2.3281686305999756, e_neg_std: 0.0045748427510261536, e_diff: 0.0007445812225341797, x_grad: 7.587767322547734e-05, iter: 40, hmc_loss: 0.0, num_steps: 40, t_diff: 19.142156839370728, length: 5152, \n",
            "Obtained a total of e_pos: -0.025059346109628677, e_pos_std: 0.005018251016736031, e_neg: -0.029449712485074997, kl_mean: -0.030604299157857895, loss_repel: 2.224529981613159, e_neg_std: 0.00720739783719182, e_diff: 0.00439036637544632, x_grad: 0.00018134205311071128, iter: 50, hmc_loss: 0.0, num_steps: 40, t_diff: 19.13017773628235, length: 6432, \n",
            "Obtained a total of e_pos: 0.03639574348926544, e_pos_std: 0.00535986665636301, e_neg: 0.035313721746206284, kl_mean: 0.034604936838150024, loss_repel: 2.2267794609069824, e_neg_std: 0.007996824570000172, e_diff: 0.0010820217430591583, x_grad: 0.0002834585902746767, iter: 60, hmc_loss: 0.0, num_steps: 40, t_diff: 19.122801780700684, length: 7712, \n",
            "Obtained a total of e_pos: 0.10094597935676575, e_pos_std: 0.00442423764616251, e_neg: 0.10394525527954102, kl_mean: 0.10517872124910355, loss_repel: 2.2140769958496094, e_neg_std: 0.012147067114710808, e_diff: -0.0029992759227752686, x_grad: 0.00013446116645354778, iter: 70, hmc_loss: 0.0, num_steps: 40, t_diff: 19.132555961608887, length: 8992, \n",
            "Obtained a total of e_pos: -0.004583498928695917, e_pos_std: 0.003714674385264516, e_neg: -0.006435145623981953, kl_mean: -0.0072577036917209625, loss_repel: 2.260624885559082, e_neg_std: 0.004116530064493418, e_diff: 0.0018516466952860355, x_grad: 0.00021264763199724257, iter: 80, hmc_loss: 0.0, num_steps: 40, t_diff: 19.172009706497192, length: 10016, \n",
            "Obtained a total of e_pos: 0.02617938444018364, e_pos_std: 0.004184705205261707, e_neg: 0.028546839952468872, kl_mean: 0.028616368770599365, loss_repel: 2.214278221130371, e_neg_std: 0.008463595993816853, e_diff: -0.0023674555122852325, x_grad: 0.0002518730761948973, iter: 90, hmc_loss: 0.0, num_steps: 40, t_diff: 19.13788080215454, length: 10016, \n",
            "Obtained a total of e_pos: -0.013414701446890831, e_pos_std: 0.0028345973696559668, e_neg: -0.01344967819750309, kl_mean: -0.013912742957472801, loss_repel: 2.1200528144836426, e_neg_std: 0.004251777660101652, e_diff: 3.497675061225891e-05, x_grad: 0.00017285539070144296, iter: 100, hmc_loss: 0.0, num_steps: 40, t_diff: 19.128048419952393, length: 10016, \n",
            "Obtained a total of e_pos: -0.09047195315361023, e_pos_std: 0.003945671487599611, e_neg: -0.1047477126121521, kl_mean: -0.10547919571399689, loss_repel: 2.2952165603637695, e_neg_std: 0.009527497924864292, e_diff: 0.01427575945854187, x_grad: 0.00028823051252402365, iter: 110, hmc_loss: 0.0, num_steps: 40, t_diff: 19.12746810913086, length: 10016, \n",
            "Obtained a total of e_pos: -0.01135888323187828, e_pos_std: 0.004783264361321926, e_neg: -0.013541734777390957, kl_mean: -0.01309315674006939, loss_repel: 2.2735440731048584, e_neg_std: 0.005837677046656609, e_diff: 0.0021828515455126762, x_grad: 0.00022015148715581745, iter: 120, hmc_loss: 0.0, num_steps: 40, t_diff: 19.14124608039856, length: 10016, \n",
            "Obtained a total of e_pos: 0.01143670454621315, e_pos_std: 0.005222308915108442, e_neg: 0.011730607599020004, kl_mean: 0.011301904916763306, loss_repel: 2.130159854888916, e_neg_std: 0.007787945214658976, e_diff: -0.00029390305280685425, x_grad: 0.000192399718798697, iter: 130, hmc_loss: 0.0, num_steps: 40, t_diff: 19.143181562423706, length: 10016, \n",
            "Obtained a total of e_pos: 0.0013423430500552058, e_pos_std: 0.004338021390140057, e_neg: 0.001741126412525773, kl_mean: 0.0018293047323822975, loss_repel: 2.2089498043060303, e_neg_std: 0.005223236512392759, e_diff: -0.0003987833624705672, x_grad: 0.00017419697542209178, iter: 140, hmc_loss: 0.0, num_steps: 40, t_diff: 19.131569147109985, length: 10016, \n",
            "Obtained a total of e_pos: 0.006851974409073591, e_pos_std: 0.005025398451834917, e_neg: 0.007775322068482637, kl_mean: 0.007820483297109604, loss_repel: 2.16698956489563, e_neg_std: 0.005966969300061464, e_diff: -0.0009233476594090462, x_grad: 0.00020565737213473767, iter: 150, hmc_loss: 0.0, num_steps: 40, t_diff: 19.144808769226074, length: 10016, \n",
            "Obtained a total of e_pos: 0.034777700901031494, e_pos_std: 0.004208216909319162, e_neg: 0.03428926318883896, kl_mean: 0.035387247800827026, loss_repel: 2.143292188644409, e_neg_std: 0.0061168372631073, e_diff: 0.0004884377121925354, x_grad: 0.00022549649293068796, iter: 160, hmc_loss: 0.0, num_steps: 40, t_diff: 19.209245204925537, length: 10016, \n",
            "Obtained a total of e_pos: 0.0003622955409809947, e_pos_std: 0.004472163040190935, e_neg: 0.0007914925226941705, kl_mean: 0.0013427139492705464, loss_repel: 2.1984920501708984, e_neg_std: 0.004605141002684832, e_diff: -0.0004291969817131758, x_grad: 0.00019609250011853874, iter: 170, hmc_loss: 0.0, num_steps: 40, t_diff: 19.132496118545532, length: 10016, \n",
            "Obtained a total of e_pos: 0.003303586971014738, e_pos_std: 0.004572696052491665, e_neg: 0.0018405121518298984, kl_mean: 0.0031396206468343735, loss_repel: 2.2198400497436523, e_neg_std: 0.007176871411502361, e_diff: 0.0014630748191848397, x_grad: 0.00018451421055942774, iter: 180, hmc_loss: 0.0, num_steps: 40, t_diff: 19.123927354812622, length: 10016, \n",
            "Obtained a total of e_pos: -0.0026197100523859262, e_pos_std: 0.004320099949836731, e_neg: -0.0008370543364435434, kl_mean: -0.0014365508686751127, loss_repel: 2.2070162296295166, e_neg_std: 0.005353735759854317, e_diff: -0.0017826557159423828, x_grad: 0.0001744578912621364, iter: 190, hmc_loss: 0.0, num_steps: 40, t_diff: 19.148040056228638, length: 10016, \n",
            "Obtained a total of e_pos: -0.00695722596719861, e_pos_std: 0.0035962401889264584, e_neg: -0.007875827141106129, kl_mean: -0.007253170944750309, loss_repel: 2.0513010025024414, e_neg_std: 0.006105319131165743, e_diff: 0.0009186011739075184, x_grad: 0.00012269506987649947, iter: 200, hmc_loss: 0.0, num_steps: 40, t_diff: 19.13860034942627, length: 10016, \n",
            "Obtained a total of e_pos: 0.04265216737985611, e_pos_std: 0.005206023342907429, e_neg: 0.039943672716617584, kl_mean: 0.039563603699207306, loss_repel: 2.2253260612487793, e_neg_std: 0.007904764264822006, e_diff: 0.0027084946632385254, x_grad: 0.00018877946422435343, iter: 210, hmc_loss: 0.0, num_steps: 40, t_diff: 19.13880968093872, length: 10016, \n",
            "Obtained a total of e_pos: 0.003205837681889534, e_pos_std: 0.0031321209389716387, e_neg: 0.0047172075137495995, kl_mean: 0.004352748394012451, loss_repel: 2.1635494232177734, e_neg_std: 0.004897350445389748, e_diff: -0.0015113698318600655, x_grad: 0.00013595682685263455, iter: 220, hmc_loss: 0.0, num_steps: 40, t_diff: 19.13668990135193, length: 10016, \n",
            "Obtained a total of e_pos: -0.006124533712863922, e_pos_std: 0.005836602300405502, e_neg: -0.008660562336444855, kl_mean: -0.009472958743572235, loss_repel: 2.1868691444396973, e_neg_std: 0.007940628565847874, e_diff: 0.0025360286235809326, x_grad: 0.00013799482258036733, iter: 230, hmc_loss: 0.0, num_steps: 40, t_diff: 19.1668918132782, length: 10016, \n",
            "Obtained a total of e_pos: 0.008944692090153694, e_pos_std: 0.0029652942903339863, e_neg: 0.009132683277130127, kl_mean: 0.009737886488437653, loss_repel: 2.189635753631592, e_neg_std: 0.004208381753414869, e_diff: -0.0001879911869764328, x_grad: 0.00011518563405843452, iter: 240, hmc_loss: 0.0, num_steps: 40, t_diff: 19.151301622390747, length: 10016, \n",
            "Obtained a total of e_pos: 0.0049034347757697105, e_pos_std: 0.005749683827161789, e_neg: 0.003552384674549103, kl_mean: 0.0028922557830810547, loss_repel: 2.2009637355804443, e_neg_std: 0.006368932779878378, e_diff: 0.0013510501012206078, x_grad: 0.00013704283628612757, iter: 250, hmc_loss: 0.0, num_steps: 40, t_diff: 19.146171808242798, length: 10016, \n",
            "Obtained a total of e_pos: 0.017677441239356995, e_pos_std: 0.005106001161038876, e_neg: 0.01743113063275814, kl_mean: 0.017732392996549606, loss_repel: 2.252098560333252, e_neg_std: 0.005214228760451078, e_diff: 0.00024631060659885406, x_grad: 0.00015950041415635496, iter: 260, hmc_loss: 0.0, num_steps: 40, t_diff: 19.131797313690186, length: 10016, \n",
            "Obtained a total of e_pos: 0.0010279614944010973, e_pos_std: 0.005325920879840851, e_neg: 0.0014719897881150246, kl_mean: 0.0007585131097584963, loss_repel: 2.205019950866699, e_neg_std: 0.008960061706602573, e_diff: -0.00044402829371392727, x_grad: 0.00016071311256382614, iter: 270, hmc_loss: 0.0, num_steps: 40, t_diff: 19.140568494796753, length: 10016, \n",
            "Obtained a total of e_pos: -0.0064824363216757774, e_pos_std: 0.004465656355023384, e_neg: -0.00982144195586443, kl_mean: -0.010544989258050919, loss_repel: 2.2734925746917725, e_neg_std: 0.0042412541806697845, e_diff: 0.003339005634188652, x_grad: 0.00012749730376526713, iter: 280, hmc_loss: 0.0, num_steps: 40, t_diff: 19.127922534942627, length: 10016, \n",
            "Obtained a total of e_pos: 0.01903524622321129, e_pos_std: 0.004725444130599499, e_neg: 0.017178751528263092, kl_mean: 0.016047213226556778, loss_repel: 2.2665202617645264, e_neg_std: 0.005870658904314041, e_diff: 0.0018564946949481964, x_grad: 0.00018803670536726713, iter: 290, hmc_loss: 0.0, num_steps: 40, t_diff: 19.146750688552856, length: 10016, \n",
            "Obtained a total of e_pos: 0.00024520049919374287, e_pos_std: 0.005652583669871092, e_neg: -0.0002986323379445821, kl_mean: -0.0007724848110228777, loss_repel: 2.224364995956421, e_neg_std: 0.006388410460203886, e_diff: 0.000543832837138325, x_grad: 0.00013247394235804677, iter: 300, hmc_loss: 0.0, num_steps: 40, t_diff: 19.193448543548584, length: 10016, \n",
            "Obtained a total of e_pos: -0.005784834269434214, e_pos_std: 0.0040206932462751865, e_neg: -0.004669372458010912, kl_mean: -0.003736802376806736, loss_repel: 2.2691400051116943, e_neg_std: 0.007101510185748339, e_diff: -0.0011154618114233017, x_grad: 0.00013122812379151583, iter: 310, hmc_loss: 0.0, num_steps: 40, t_diff: 19.13650393486023, length: 10016, \n",
            "Obtained a total of e_pos: -0.010284257121384144, e_pos_std: 0.0058261617086827755, e_neg: -0.012541219592094421, kl_mean: -0.012881172820925713, loss_repel: 2.2550902366638184, e_neg_std: 0.006820837501436472, e_diff: 0.0022569624707102776, x_grad: 0.0001336426066700369, iter: 320, hmc_loss: 0.0, num_steps: 40, t_diff: 19.138543367385864, length: 10016, \n",
            "Obtained a total of e_pos: -0.013767154887318611, e_pos_std: 0.004216148983687162, e_neg: -0.015398654155433178, kl_mean: -0.01522427424788475, loss_repel: 2.2247395515441895, e_neg_std: 0.005392172839492559, e_diff: 0.0016314992681145668, x_grad: 0.00011918987729586661, iter: 330, hmc_loss: 0.0, num_steps: 40, t_diff: 19.14045000076294, length: 10016, \n",
            "Obtained a total of e_pos: 0.009144390001893044, e_pos_std: 0.0069164917804300785, e_neg: 0.006258292123675346, kl_mean: 0.0050367191433906555, loss_repel: 2.1817007064819336, e_neg_std: 0.006933231372386217, e_diff: 0.002886097878217697, x_grad: 0.00013715471141040325, iter: 340, hmc_loss: 0.0, num_steps: 40, t_diff: 19.149507522583008, length: 10016, \n",
            "Obtained a total of e_pos: 0.00689436960965395, e_pos_std: 0.004707206506282091, e_neg: 0.005699417553842068, kl_mean: 0.005802050232887268, loss_repel: 2.1675913333892822, e_neg_std: 0.005838085897266865, e_diff: 0.001194952055811882, x_grad: 0.00012533827975858003, iter: 350, hmc_loss: 0.0, num_steps: 40, t_diff: 19.14563298225403, length: 10016, \n",
            "Obtained a total of e_pos: 0.006547559984028339, e_pos_std: 0.006121544633060694, e_neg: 0.005462093278765678, kl_mean: 0.005058433394879103, loss_repel: 2.192573070526123, e_neg_std: 0.005531012546271086, e_diff: 0.001085466705262661, x_grad: 0.0001436881284462288, iter: 360, hmc_loss: 0.0, num_steps: 40, t_diff: 19.147854804992676, length: 10016, \n",
            "Obtained a total of e_pos: 0.0005092796636745334, e_pos_std: 0.006818289868533611, e_neg: -0.0011727947276085615, kl_mean: -0.0007026605890132487, loss_repel: 2.1787993907928467, e_neg_std: 0.007724226918071508, e_diff: 0.0016820743912830949, x_grad: 0.00011955623631365597, iter: 370, hmc_loss: 0.0, num_steps: 40, t_diff: 19.145363092422485, length: 10016, \n"
          ]
        }
      ],
      "source": [
        "!python train.py --dataset=mnist --save_interval=1000 --exp=mnist_model --step_lr=100.0 --num_steps=40 --cuda --ensembles=1 --kl_coeff=1.0 --kl=True --multiscale --self_attn"
      ]
    },
    {
      "cell_type": "code",
      "execution_count": null,
      "metadata": {
        "colab": {
          "background_save": true
        },
        "id": "uD42402kre6X"
      },
      "outputs": [],
      "source": [
        "!python train.py --save_interval=100 --exp=cifar10_model --step_lr=100.0 --num_steps=40 --cuda --ensembles=1 --kl_coeff=1.0 --kl=True --multiscale --self_attn"
      ]
    },
    {
      "cell_type": "code",
      "execution_count": null,
      "metadata": {
        "id": "3SHM_B1ZaZ3U"
      },
      "outputs": [],
      "source": [
        ""
      ]
    },
    {
      "cell_type": "code",
      "execution_count": null,
      "metadata": {
        "id": "70M7eXZ3aZ54"
      },
      "outputs": [],
      "source": [
        ""
      ]
    }
  ],
  "metadata": {
    "accelerator": "GPU",
    "colab": {
      "background_execution": "on",
      "collapsed_sections": [],
      "name": "0802_improved_contrastive_divergence.ipynb",
      "provenance": []
    },
    "kernelspec": {
      "display_name": "Python 3",
      "name": "python3"
    },
    "language_info": {
      "name": "python"
    }
  },
  "nbformat": 4,
  "nbformat_minor": 0
}