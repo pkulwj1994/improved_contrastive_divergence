{
  "cells": [
    {
      "cell_type": "code",
      "execution_count": 1,
      "metadata": {
        "colab": {
          "base_uri": "https://localhost:8080/"
        },
        "id": "KnRQXe4XpbyV",
        "outputId": "91182feb-4eb5-49eb-9df1-ae935b09bd39"
      },
      "outputs": [
        {
          "output_type": "stream",
          "name": "stdout",
          "text": [
            "Cloning into 'improved_contrastive_divergence'...\n",
            "remote: Enumerating objects: 57, done.\u001b[K\n",
            "remote: Counting objects: 100% (57/57), done.\u001b[K\n",
            "remote: Compressing objects: 100% (41/41), done.\u001b[K\n",
            "remote: Total 57 (delta 29), reused 41 (delta 16), pack-reused 0\u001b[K\n",
            "Unpacking objects: 100% (57/57), done.\n"
          ]
        }
      ],
      "source": [
        "!git clone https://github.com/yilundu/improved_contrastive_divergence.git"
      ]
    },
    {
      "cell_type": "code",
      "execution_count": 2,
      "metadata": {
        "id": "wvGidOOtpgmg"
      },
      "outputs": [],
      "source": [
        "!cp -a /content/improved_contrastive_divergence/. /content/."
      ]
    },
    {
      "cell_type": "code",
      "execution_count": null,
      "metadata": {
        "id": "iAzeksvspgoo"
      },
      "outputs": [],
      "source": [
        "# !pip install -r requirements.txt\n",
        "!pip install scipy==1.2.0\n",
        "!pip install numpy==1.18.4\n",
        "!pip install opencv_python==4.2.0.34\n",
        "!pip install lmdb==0.98\n",
        "!pip install seaborn==0.9.0\n",
        "!pip install six==1.15.0\n",
        "!pip uninstall tensorflow\n",
        "!pip uninstall tensorflow\n",
        "!pip install tensorflow==1.15.2\n",
        "!pip install torch==1.4.0\n",
        "# RoboNet.egg==info\n",
        "!pip install scikit_image==0.16.2\n",
        "!pip install easydict==1.9\n",
        "!pip install absl_py==0.8.0\n",
        "!pip install gdown==3.12.2\n",
        "# baselines.egg==info\n",
        "!pip install tqdm==4.46.1\n",
        "!pip install imageio==2.9.0\n",
        "!pip install matplotlib==3.1.1\n",
        "!pip install pandas==0.25.2\n",
        "!pip install absl==0.0\n",
        "!pip install baselines==0.1.5\n",
        "!pip install ipython==7.19.0\n",
        "!pip install Pillow==8.0.1\n",
        "!pip install scikit_learn==0.23.2\n",
        "!pip install scikit-image\n",
        "!pip install torchvision==0.8.1"
      ]
    },
    {
      "cell_type": "code",
      "execution_count": null,
      "metadata": {
        "id": "JslEZtsupgqv"
      },
      "outputs": [],
      "source": [
        "!pip install -U torch\n",
        "!pip install torchvision"
      ]
    },
    {
      "cell_type": "code",
      "execution_count": null,
      "metadata": {
        "id": "M2wgh4n2pgt7"
      },
      "outputs": [],
      "source": [
        "!pip uninstall tensorflow\n",
        "!pip install tensorflow==1.15.2"
      ]
    },
    {
      "cell_type": "code",
      "source": [
        "!python train.py --dataset=mnist --exp=mnist_model --step_lr=100.0 --num_steps=40 --cuda --ensembles=1 --kl_coeff=1.0 --kl=True --multiscale --self_attn"
      ],
      "metadata": {
        "colab": {
          "base_uri": "https://localhost:8080/"
        },
        "id": "k90Vp4ZtmRER",
        "outputId": "8246e59c-b8ec-4c0b-b70c-d9d4cd7a33bb"
      },
      "execution_count": null,
      "outputs": [
        {
          "output_type": "stream",
          "name": "stdout",
          "text": [
            "start data import\n",
            "end data import\n",
            "Logging to /tmp/openai-2022-07-29-15-39-33-562844\n",
            "Values of args:  {'alias': False, 'all_step': False, 'alsologtostderr': False, 'anneal': False, 'batch_size': 128, 'buffer_size': 10000, 'cond': False, 'cond_idx': 0, 'cuda': True, 'data_workers': 4, 'dataset': 'mnist', 'ensembles': 1, 'epoch_num': 10000, 'exp': 'mnist_model', 'filter_dim': 64, 'gpus': 1, 'hmc': False, 'im_size': 32, 'kl': True, 'kl_coeff': 1.0, 'log_dir': '', 'log_grad': False, 'log_interval': 10, 'logdir': 'cachedir', 'logtostderr': False, 'lr': 0.0002, 'master_addr': '8.8.8.8', 'multiscale': True, 'node_rank': 0, 'nodes': 1, 'noise_scale': 1.0, 'norm': True, 'num_steps': 40, 'objective': 'cd', 'only_check_args': False, 'op_conversion_fallback_to_while_loop': False, 'pdb_post_mortem': False, 'port': '10002', 'profile_file': None, 'repel_im': True, 'replay_batch': True, 'reservoir': True, 'resume_iter': 0, 'run_with_pdb': False, 'run_with_profiling': False, 'save_interval': 1000, 'self_attn': True, 'showprefixforinfo': True, 'sigmoid': False, 'slurm': False, 'spec_norm': False, 'square_energy': False, 'stderrthreshold': 'fatal', 'step_lr': 100.0, 'test_interval': 1000, 'test_random_seed': 301, 'test_randomize_ordering_seed': None, 'test_srcdir': '', 'test_tmpdir': '/tmp/absl_testing', 'train': True, 'transform': True, 'use_cprofile_for_profiling': True, 'v': -1, 'verbosity': -1, 'xml_output_file': ''}\n",
            "New Values of args:  {'alias': False, 'all_step': False, 'alsologtostderr': False, 'anneal': False, 'batch_size': 128, 'buffer_size': 10000, 'cond': False, 'cond_idx': 0, 'cuda': True, 'data_workers': 4, 'dataset': 'mnist', 'ensembles': 1, 'epoch_num': 10000, 'exp': 'mnist_model', 'filter_dim': 64, 'gpus': 1, 'hmc': False, 'im_size': 32, 'kl': True, 'kl_coeff': 1.0, 'log_dir': '', 'log_grad': False, 'log_interval': 10, 'logdir': 'cachedir', 'logtostderr': False, 'lr': 0.0002, 'master_addr': '8.8.8.8', 'multiscale': True, 'node_rank': 0, 'nodes': 1, 'noise_scale': 1.0, 'norm': True, 'num_steps': 40, 'objective': 'cd', 'only_check_args': False, 'op_conversion_fallback_to_while_loop': False, 'pdb_post_mortem': False, 'port': '10002', 'profile_file': None, 'repel_im': True, 'replay_batch': True, 'reservoir': True, 'resume_iter': 0, 'run_with_pdb': False, 'run_with_profiling': False, 'save_interval': 1000, 'self_attn': True, 'showprefixforinfo': True, 'sigmoid': False, 'slurm': False, 'spec_norm': False, 'square_energy': False, 'stderrthreshold': 'fatal', 'step_lr': 100.0, 'test_interval': 1000, 'test_random_seed': 301, 'test_randomize_ordering_seed': None, 'test_srcdir': '', 'test_tmpdir': '/tmp/absl_testing', 'train': True, 'transform': True, 'use_cprofile_for_profiling': True, 'v': -1, 'verbosity': -1, 'xml_output_file': ''}\n",
            "Number of parameters for models 4089217\n",
            "WARNING:tensorflow:From /content/inception.py:25: The name tf.ConfigProto is deprecated. Please use tf.compat.v1.ConfigProto instead.\n",
            "\n",
            "WARNING:tensorflow:From /content/inception.py:29: The name tf.Session is deprecated. Please use tf.compat.v1.Session instead.\n",
            "\n",
            "2022-07-29 15:39:36.106968: I tensorflow/core/platform/cpu_feature_guard.cc:142] Your CPU supports instructions that this TensorFlow binary was not compiled to use: AVX2 FMA\n",
            "2022-07-29 15:39:36.110465: I tensorflow/core/platform/profile_utils/cpu_utils.cc:94] CPU Frequency: 2299995000 Hz\n",
            "2022-07-29 15:39:36.110673: I tensorflow/compiler/xla/service/service.cc:168] XLA service 0x5c1f1b80 initialized for platform Host (this does not guarantee that XLA will be used). Devices:\n",
            "2022-07-29 15:39:36.110704: I tensorflow/compiler/xla/service/service.cc:176]   StreamExecutor device (0): Host, Default Version\n",
            "WARNING:tensorflow:From /content/inception.py:85: FastGFile.__init__ (from tensorflow.python.platform.gfile) is deprecated and will be removed in a future version.\n",
            "Instructions for updating:\n",
            "Use tf.gfile.GFile.\n",
            "WARNING:tensorflow:From /content/inception.py:86: The name tf.GraphDef is deprecated. Please use tf.compat.v1.GraphDef instead.\n",
            "\n",
            "2022-07-29 15:39:37.240714: W tensorflow/core/framework/op_def_util.cc:357] Op BatchNormWithGlobalNormalization is deprecated. It will cease to work in GraphDef version 9. Use tf.nn.batch_normalization().\n",
            "train.py:510: UserWarning: torch.nn.utils.clip_grad_norm is now deprecated in favor of torch.nn.utils.clip_grad_norm_.\n",
            "  [clip_grad_norm(model.parameters(), 0.5) for model in models]\n",
            "Obtained a total of e_pos: 0.038616620004177094, e_pos_std: 0.0030503636226058006, e_neg: -0.05927373468875885, kl_mean: -0.05927373468875885, loss_repel: 0.0, e_neg_std: 0.006681682541966438, e_diff: 0.09789035469293594, x_grad: 0.0007127119461074471, iter: 0, hmc_loss: 0.0, num_steps: 40, t_diff: 0.8808138370513916, length: 32, \n",
            "WARNING:tensorflow:From /content/logger.py:161: The name tf.Summary is deprecated. Please use tf.compat.v1.Summary instead.\n",
            "\n",
            "Inception score of 0 with std of 0\n",
            "Obtained a total of e_pos: 0.0579725056886673, e_pos_std: 0.0054617091082036495, e_neg: 0.04257860779762268, kl_mean: 0.044908277690410614, loss_repel: 2.4793953895568848, e_neg_std: 0.011805168353021145, e_diff: 0.015393897891044617, x_grad: 8.872982289176434e-05, iter: 10, hmc_loss: 0.0, num_steps: 40, t_diff: 18.266538858413696, length: 1312, \n",
            "Obtained a total of e_pos: 0.04524097591638565, e_pos_std: 0.009421030059456825, e_neg: 0.05186858028173447, kl_mean: 0.050118740648031235, loss_repel: 2.4224777221679688, e_neg_std: 0.015238051302731037, e_diff: -0.006627604365348816, x_grad: 0.00019215716747567058, iter: 20, hmc_loss: 0.0, num_steps: 40, t_diff: 17.949973583221436, length: 2592, \n",
            "Obtained a total of e_pos: 0.03119322471320629, e_pos_std: 0.006934280972927809, e_neg: 0.0379151925444603, kl_mean: 0.03641633316874504, loss_repel: 2.348536968231201, e_neg_std: 0.015044610016047955, e_diff: -0.006721967831254005, x_grad: 0.00022378152061719447, iter: 30, hmc_loss: 0.0, num_steps: 40, t_diff: 17.94950795173645, length: 3872, \n",
            "Obtained a total of e_pos: 0.04854067042469978, e_pos_std: 0.005695956293493509, e_neg: 0.05003943294286728, kl_mean: 0.05069234222173691, loss_repel: 2.2828054428100586, e_neg_std: 0.011828232556581497, e_diff: -0.0014987625181674957, x_grad: 0.00022666490986011922, iter: 40, hmc_loss: 0.0, num_steps: 40, t_diff: 17.954381465911865, length: 5152, \n"
          ]
        }
      ]
    },
    {
      "cell_type": "code",
      "execution_count": null,
      "metadata": {
        "id": "uD42402kre6X"
      },
      "outputs": [],
      "source": [
        "!python train.py --exp=cifar10_model --step_lr=100.0 --num_steps=40 --cuda --ensembles=1 --kl_coeff=1.0 --kl=True --multiscale --self_attn"
      ]
    },
    {
      "cell_type": "code",
      "execution_count": null,
      "metadata": {
        "id": "3SHM_B1ZaZ3U"
      },
      "outputs": [],
      "source": [
        ""
      ]
    },
    {
      "cell_type": "code",
      "execution_count": null,
      "metadata": {
        "id": "70M7eXZ3aZ54"
      },
      "outputs": [],
      "source": [
        ""
      ]
    }
  ],
  "metadata": {
    "accelerator": "GPU",
    "colab": {
      "background_execution": "on",
      "name": "0729_improved_contrastive_divergence.ipynb",
      "provenance": [],
      "collapsed_sections": []
    },
    "kernelspec": {
      "display_name": "Python 3",
      "name": "python3"
    },
    "language_info": {
      "name": "python"
    }
  },
  "nbformat": 4,
  "nbformat_minor": 0
}